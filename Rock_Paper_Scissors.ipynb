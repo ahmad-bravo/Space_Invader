{
  "nbformat": 4,
  "nbformat_minor": 0,
  "metadata": {
    "colab": {
      "name": "Rock Paper Scissors.ipynb",
      "provenance": [],
      "collapsed_sections": [],
      "authorship_tag": "ABX9TyMTMh/ppf9EkbGPNLbvNNHj",
      "include_colab_link": true
    },
    "kernelspec": {
      "name": "python3",
      "display_name": "Python 3"
    },
    "language_info": {
      "name": "python"
    },
    "gpuClass": "standard",
    "accelerator": "GPU"
  },
  "cells": [
    {
      "cell_type": "markdown",
      "metadata": {
        "id": "view-in-github",
        "colab_type": "text"
      },
      "source": [
        "<a href=\"https://colab.research.google.com/github/ahmad-bravo/Space_Invader/blob/main/Rock_Paper_Scissors.ipynb\" target=\"_parent\"><img src=\"https://colab.research.google.com/assets/colab-badge.svg\" alt=\"Open In Colab\"/></a>"
      ]
    },
    {
      "cell_type": "markdown",
      "source": [
        "##RPS_game.py"
      ],
      "metadata": {
        "id": "eeIoFuTyrcA9"
      }
    },
    {
      "cell_type": "code",
      "source": [
        "import random\n",
        "\n",
        "from collections import Counter\n",
        "\n",
        "def play(player1, player2, num_games, verbose=False):\n",
        "    p1_prev_play = \"\"\n",
        "    p2_prev_play = \"\"\n",
        "    results = {\"p1\": 0, \"p2\": 0, \"tie\": 0}\n",
        "\n",
        "    for _ in range(num_games):\n",
        "        p1_play = player1(p2_prev_play)\n",
        "        p2_play = player2(p1_prev_play)\n",
        "\n",
        "        if p1_play == p2_play:\n",
        "            results[\"tie\"] += 1\n",
        "            winner = \"Tie.\"\n",
        "        elif (p1_play == \"P\" and p2_play == \"R\") or (\n",
        "                p1_play == \"R\" and p2_play == \"S\") or (p1_play == \"S\"\n",
        "                                                       and p2_play == \"P\"):\n",
        "            results[\"p1\"] += 1\n",
        "            winner = \"Player 1 wins.\"\n",
        "        elif p2_play == \"P\" and p1_play == \"R\" or p2_play == \"R\" and p1_play == \"S\" or p2_play == \"S\" and p1_play == \"P\":\n",
        "            results[\"p2\"] += 1\n",
        "            winner = \"Player 2 wins.\"\n",
        "\n",
        "        if verbose:\n",
        "            print(\"Player 1:\", p1_play, \"| Player 2:\", p2_play)\n",
        "            print(winner)\n",
        "            print()\n",
        "\n",
        "        p1_prev_play = p1_play\n",
        "        p2_prev_play = p2_play\n",
        "\n",
        "    games_won = results['p2'] + results['p1']\n",
        "\n",
        "    if games_won == 0:\n",
        "        win_rate = 0\n",
        "    else:\n",
        "        win_rate = results['p1'] / games_won * 100\n",
        "\n",
        "    print(\"Final results:\", results)\n",
        "    print(f\"Player 1 win rate: {win_rate}%\")\n",
        "\n",
        "    return (win_rate)\n",
        "\n",
        "\n",
        "def quincy(prev_play, counter=[0]):\n",
        "\n",
        "    counter[0] += 1\n",
        "    choices = [\"R\", \"R\", \"P\", \"P\", \"S\"]\n",
        "    return choices[counter[0] % len(choices)]\n",
        "\n",
        "\n",
        "def mrugesh(prev_opponent_play, opponent_history=[]):\n",
        "    opponent_history.append(prev_opponent_play)\n",
        "    last_ten = opponent_history[-10:]\n",
        "    most_frequent = max(set(last_ten), key=last_ten.count)\n",
        "\n",
        "    if most_frequent == '':\n",
        "        most_frequent = \"S\"\n",
        "\n",
        "    ideal_response = {'P': 'S', 'R': 'P', 'S': 'R'}\n",
        "    return ideal_response[most_frequent]\n",
        "\n",
        "\n",
        "def kris(prev_opponent_play):\n",
        "    if prev_opponent_play == '':\n",
        "        prev_opponent_play = \"R\"\n",
        "    ideal_response = {'P': 'S', 'R': 'P', 'S': 'R'}\n",
        "    return ideal_response[prev_opponent_play]\n",
        "\n",
        "\n",
        "def abbey(prev_opponent_play,\n",
        "          opponent_history=[],\n",
        "          play_order=[{\n",
        "              \"RR\": 0,\n",
        "              \"RP\": 0,\n",
        "              \"RS\": 0,\n",
        "              \"PR\": 0,\n",
        "              \"PP\": 0,\n",
        "              \"PS\": 0,\n",
        "              \"SR\": 0,\n",
        "              \"SP\": 0,\n",
        "              \"SS\": 0,\n",
        "          }]):\n",
        "\n",
        "    if not prev_opponent_play:\n",
        "        prev_opponent_play = 'R'\n",
        "    opponent_history.append(prev_opponent_play)\n",
        "\n",
        "    last_two = \"\".join(opponent_history[-2:])\n",
        "    if len(last_two) == 2:\n",
        "        play_order[0][last_two] += 1\n",
        "\n",
        "    potential_plays = [\n",
        "        prev_opponent_play + \"R\",\n",
        "        prev_opponent_play + \"P\",\n",
        "        prev_opponent_play + \"S\",\n",
        "    ]\n",
        "\n",
        "    sub_order = {\n",
        "        k: play_order[0][k]\n",
        "        for k in potential_plays if k in play_order[0]\n",
        "    }\n",
        "\n",
        "    prediction = max(sub_order, key=sub_order.get)[-1:]\n",
        "\n",
        "    ideal_response = {'P': 'S', 'R': 'P', 'S': 'R'}\n",
        "    return ideal_response[prediction]\n",
        "\n",
        "\n",
        "def human(prev_opponent_play):\n",
        "    play = \"\"\n",
        "    while play not in ['R', 'P', 'S']:\n",
        "        play = input(\"[R]ock, [P]aper, [S]cissors? \")\n",
        "        print(play)\n",
        "    return play\n",
        "\n",
        "\n",
        "def random_player(prev_opponent_play):\n",
        "    return random.choice(['R', 'P', 'S'])"
      ],
      "metadata": {
        "id": "1d34RkeSreTz"
      },
      "execution_count": 4,
      "outputs": []
    },
    {
      "cell_type": "markdown",
      "source": [
        "##RPS.py"
      ],
      "metadata": {
        "id": "x_iLvLdQrOS9"
      }
    },
    {
      "cell_type": "code",
      "source": [
        "# The example function below keeps track of the opponent's history and plays whatever the opponent played two plays ago. It is not a very good player so you will need to change the code to pass the challenge.\n",
        "#import NeuralModel\n",
        "#def player(prev_play, opponent_history=[], model=NeuralModel.Network()):\n",
        "\n",
        "counter_move = {\"R\": \"P\", \"P\": \"S\", \"S\": \"R\"}\n",
        "steps = {}\n",
        "\n",
        "\n",
        "def player(prev_play, opponent_history=[]):\n",
        "    if prev_play != \"\":\n",
        "        opponent_history.append(prev_play)\n",
        "\n",
        "    n = 5\n",
        "\n",
        "    hist = opponent_history\n",
        "\n",
        "    guess = \"R\"\n",
        "    if len(hist) > n:\n",
        "        pattern = join(hist[-n:])\n",
        "\n",
        "        if join(hist[-(n + 1):]) in steps.keys():\n",
        "            steps[join(hist[-(n + 1):])] += 1\n",
        "        else:\n",
        "            steps[join(hist[-(n + 1):])] = 1\n",
        "\n",
        "        possible = [pattern + \"R\", pattern + \"P\", pattern + \"S\"]\n",
        "\n",
        "        for i in possible:\n",
        "            if not i in steps.keys():\n",
        "                steps[i] = 0\n",
        "\n",
        "        predict = max(possible, key=lambda key: steps[key])\n",
        "\n",
        "        if predict[-1] == \"P\":\n",
        "            guess = \"S\"\n",
        "        if predict[-1] == \"R\":\n",
        "            guess = \"P\"\n",
        "        if predict[-1] == \"S\":\n",
        "            guess = \"R\"\n",
        "\n",
        "    return guess\n",
        "\n",
        "\n",
        "def join(moves):\n",
        "    return \"\".join(moves)\n",
        "\n",
        "\n",
        "play(player, quincy, 1000)\n",
        "play(player, mrugesh, 1000)\n",
        "play(player, abbey, 1000)\n",
        "play(player, kris, 1000)"
      ],
      "metadata": {
        "id": "zFvQUZOjrJ9n",
        "colab": {
          "base_uri": "https://localhost:8080/"
        },
        "outputId": "06cf6a1e-44e7-46b5-c6e7-0ca44bf34166"
      },
      "execution_count": 5,
      "outputs": [
        {
          "output_type": "stream",
          "name": "stdout",
          "text": [
            "Final results: {'p1': 992, 'p2': 3, 'tie': 5}\n",
            "Player 1 win rate: 99.69849246231156%\n",
            "Final results: {'p1': 828, 'p2': 165, 'tie': 7}\n",
            "Player 1 win rate: 83.38368580060424%\n",
            "Final results: {'p1': 447, 'p2': 305, 'tie': 248}\n",
            "Player 1 win rate: 59.441489361702125%\n",
            "Final results: {'p1': 754, 'p2': 120, 'tie': 126}\n",
            "Player 1 win rate: 86.2700228832952%\n"
          ]
        },
        {
          "output_type": "execute_result",
          "data": {
            "text/plain": [
              "86.2700228832952"
            ]
          },
          "metadata": {},
          "execution_count": 5
        }
      ]
    },
    {
      "cell_type": "markdown",
      "source": [
        "##Test.py"
      ],
      "metadata": {
        "id": "Af3o1UfAoCtD"
      }
    },
    {
      "cell_type": "code",
      "source": [
        "import unittest\n",
        "\n",
        "class UnitTests(unittest.TestCase):\n",
        "    print()\n",
        "\n",
        "    def test_player_vs_quincy(self):\n",
        "        print(\"Testing game against quincy...\")\n",
        "        actual = play(player, quincy, 1000) >= 60\n",
        "        self.assertTrue(\n",
        "            actual,\n",
        "            'Expected player to defeat quincy at least 60% of the time.')\n",
        "\n",
        "    def test_player_vs_abbey(self):\n",
        "        print(\"Testing game against abbey...\")\n",
        "        actual = play(player, abbey, 1000) >= 60\n",
        "        self.assertTrue(\n",
        "            actual,\n",
        "            'Expected player to defeat abbey at least 60% of the time.')\n",
        "\n",
        "    def test_player_vs_kris(self):\n",
        "        print(\"Testing game against kris...\")\n",
        "        actual = play(player, kris, 1000) >= 60\n",
        "        self.assertTrue(\n",
        "            actual, 'Expected player to defeat kris at least 60% of the time.')\n",
        "\n",
        "    def test_player_vs_mrugesh(self):\n",
        "        print(\"Testing game against mrugesh...\")\n",
        "        actual = play(player, mrugesh, 1000) >= 60\n",
        "        self.assertTrue(\n",
        "            actual,\n",
        "            'Expected player to defeat mrugesh at least 60% of the time.')\n",
        "\n",
        "\n",
        "if __name__ == \"__main__\":\n",
        "    unittest.main(argv=[\"first-arg-is-ignored\"], exit=False)"
      ],
      "metadata": {
        "id": "JxvbtV1RoEwV",
        "colab": {
          "base_uri": "https://localhost:8080/"
        },
        "outputId": "56e6c713-1e58-4124-b5c7-dba16382cd3a"
      },
      "execution_count": 6,
      "outputs": [
        {
          "output_type": "stream",
          "name": "stderr",
          "text": [
            "...."
          ]
        },
        {
          "output_type": "stream",
          "name": "stdout",
          "text": [
            "\n",
            "Testing game against abbey...\n",
            "Final results: {'p1': 521, 'p2': 273, 'tie': 206}\n",
            "Player 1 win rate: 65.61712846347606%\n",
            "Testing game against kris...\n",
            "Final results: {'p1': 999, 'p2': 1, 'tie': 0}\n",
            "Player 1 win rate: 99.9%\n",
            "Testing game against mrugesh...\n",
            "Final results: {'p1': 840, 'p2': 158, 'tie': 2}\n",
            "Player 1 win rate: 84.16833667334669%\n",
            "Testing game against quincy...\n",
            "Final results: {'p1': 998, 'p2': 1, 'tie': 1}\n",
            "Player 1 win rate: 99.8998998998999%\n"
          ]
        },
        {
          "output_type": "stream",
          "name": "stderr",
          "text": [
            "\n",
            "----------------------------------------------------------------------\n",
            "Ran 4 tests in 0.044s\n",
            "\n",
            "OK\n"
          ]
        }
      ]
    },
    {
      "cell_type": "markdown",
      "source": [
        "##main.py"
      ],
      "metadata": {
        "id": "hnogUNTYrhcC"
      }
    },
    {
      "cell_type": "code",
      "source": [
        "# This entrypoint file to be used in development. Start by reading README.md\n",
        "#from RSP_game import play, mrugesh, abbey, quincy, kris, human, random_player\n",
        "#from RSP import player\n",
        "from unittest import main\n",
        "\n",
        "print(\"-------- you vs quincy -------------\")\n",
        "play(player, quincy, 1000)\n",
        "\n",
        "print(\"-------- you vs abbey -------------\")\n",
        "play(player, abbey, 1000)\n",
        "\n",
        "print(\"-------- you vs kris -------------\")\n",
        "play(player, kris, 1000)\n",
        "\n",
        "print(\"-------- you vs mrugesh -------------\")\n",
        "play(player, mrugesh, 1000)\n",
        "\n",
        "# Uncomment line below to play interactively against a bot:\n",
        "#play(human, abbey, 20, verbose=True)\n",
        "#\n",
        "# Uncomment line below to play against a bot that plays randomly:\n",
        "#play(human, random_player, 1000, verbose=True)\n",
        "\n",
        "\n",
        "\n",
        "# Uncomment line below to run unit tests automatically\n",
        "#main(module='test_module', exit=False)"
      ],
      "metadata": {
        "id": "r_DcF0Mmriur",
        "colab": {
          "base_uri": "https://localhost:8080/"
        },
        "outputId": "c6aeb816-b597-442a-e78b-2c5ed572d2dc"
      },
      "execution_count": 9,
      "outputs": [
        {
          "output_type": "stream",
          "name": "stdout",
          "text": [
            "-------- you vs quincy -------------\n",
            "Final results: {'p1': 995, 'p2': 4, 'tie': 1}\n",
            "Player 1 win rate: 99.5995995995996%\n",
            "-------- you vs abbey -------------\n",
            "Final results: {'p1': 508, 'p2': 258, 'tie': 234}\n",
            "Player 1 win rate: 66.31853785900783%\n",
            "-------- you vs kris -------------\n",
            "Final results: {'p1': 976, 'p2': 9, 'tie': 15}\n",
            "Player 1 win rate: 99.08629441624366%\n",
            "-------- you vs mrugesh -------------\n",
            "Final results: {'p1': 837, 'p2': 160, 'tie': 3}\n",
            "Player 1 win rate: 83.95185556670009%\n"
          ]
        },
        {
          "output_type": "execute_result",
          "data": {
            "text/plain": [
              "83.95185556670009"
            ]
          },
          "metadata": {},
          "execution_count": 9
        }
      ]
    }
  ]
}